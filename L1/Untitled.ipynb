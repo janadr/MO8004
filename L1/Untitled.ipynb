{
 "cells": [
  {
   "cell_type": "code",
   "execution_count": 3,
   "id": "fcb87d1c",
   "metadata": {},
   "outputs": [],
   "source": [
    "import numpy as np\n",
    "import xarray as xr\n",
    "import matplotlib.pyplot as plt\n",
    "\n",
    "datadir = \"../\""
   ]
  },
  {
   "cell_type": "code",
   "execution_count": 5,
   "id": "8a862960",
   "metadata": {},
   "outputs": [
    {
     "name": "stdout",
     "output_type": "stream",
     "text": [
      "<xarray.Dataset>\n",
      "Dimensions:  (x: 200, y: 200, time: 289)\n",
      "Coordinates:\n",
      "  * x        (x) float64 1.5e+04 4.5e+04 7.5e+04 ... 5.955e+06 5.985e+06\n",
      "  * y        (y) float64 1.5e+04 4.5e+04 7.5e+04 ... 5.955e+06 5.985e+06\n",
      "  * time     (time) float64 0.0 0.25 0.5 0.75 1.0 ... 71.0 71.25 71.5 71.75 72.0\n",
      "Data variables:\n",
      "    h        (time, y, x) float32 ...\n",
      "Attributes:\n",
      "    About:    Created by StVenant shallow water model. Laurent Brodeau, 2013\n"
     ]
    }
   ],
   "source": [
    "data = xr.open_dataset(\"h_test.nc\")\n",
    "print(data)"
   ]
  },
  {
   "cell_type": "code",
   "execution_count": 7,
   "id": "75cd1691",
   "metadata": {},
   "outputs": [
    {
     "data": {
      "image/png": "[encoded data removed]",
      "text/plain": [
       "<Figure size 432x288 with 1 Axes>"
      ]
     },
     "metadata": {
      "needs_background": "light"
     },
     "output_type": "display_data"
    }
   ],
   "source": [
    "fig, ax = plt.subplots(1, 1)\n",
    "data_spec = data.sel(time=72)\n",
    "ax.contourf(data_spec.x, data_spec.y, data_spec.h)\n",
    "plt.show()"
   ]
  },
  {
   "cell_type": "code",
   "execution_count": null,
   "id": "a8adc9fb",
   "metadata": {},
   "outputs": [],
   "source": []
  }
 ],
 "metadata": {
  "kernelspec": {
   "display_name": "Python 3 (ipykernel)",
   "language": "python",
   "name": "python3"
  },
  "language_info": {
   "codemirror_mode": {
    "name": "ipython",
    "version": 3
   },
   "file_extension": ".py",
   "mimetype": "text/x-python",
   "name": "python",
   "nbconvert_exporter": "python",
   "pygments_lexer": "ipython3",
   "version": "3.8.10"
  }
 },
 "nbformat": 4,
 "nbformat_minor": 5
}
