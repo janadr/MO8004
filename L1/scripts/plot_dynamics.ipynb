{
 "cells": [
  {
   "cell_type": "code",
   "execution_count": 9,
   "metadata": {},
   "outputs": [],
   "source": [
    "import numpy as np\n",
    "import xarray as xr\n",
    "import seaborn as sns\n",
    "import matplotlib.pyplot as plt\n",
    "\n",
    "from numpy import vectorize\n",
    "from latex import set_size\n",
    "\n",
    "\n",
    "plt.style.use(\"tex\")\n",
    "sns.set_palette(\"colorblind\")\n",
    "\n",
    "figdir = \"../figures/\"\n",
    "datadir = \"../data/\"\n",
    "R = np.sqrt(9.81*4000)/1e-4\n",
    "h0 = 0.5"
   ]
  },
  {
   "cell_type": "code",
   "execution_count": 10,
   "metadata": {},
   "outputs": [],
   "source": [
    "@vectorize\n",
    "def analytic_h(x, midpoint):\n",
    "    h0 = 0.5\n",
    "    R = np.sqrt(9.81*4000)/1e-4\n",
    "    if x > midpoint:\n",
    "        return h0*(-1 + np.exp(-x/R)) \n",
    "    else:\n",
    "        return h0*(1 - np.exp(x/R))\n",
    "    \n",
    "def analytic_v(x):\n",
    "    f0 = 1e-4\n",
    "    g = 9.81\n",
    "    h0 = 0.5\n",
    "    R = np.sqrt(g*4000)/f0\n",
    "    v = -g*h0/(f0*R)*np.exp(-abs(x)/R)\n",
    "    return v"
   ]
  },
  {
   "cell_type": "code",
   "execution_count": 11,
   "metadata": {},
   "outputs": [
    {
     "name": "stdout",
     "output_type": "stream",
     "text": [
      "<xarray.Dataset>\n",
      "Dimensions:  (time: 161, x: 200, y: 200)\n",
      "Coordinates:\n",
      "  * x        (x) float64 -4.466e+06 -4.421e+06 ... 4.444e+06 4.489e+06\n",
      "  * y        (y) float64 1.125e+04 3.375e+04 5.625e+04 ... 4.466e+06 4.489e+06\n",
      "  * time     (time) float64 0.0 6.0 12.0 18.0 24.0 ... 942.0 948.0 954.0 960.0\n",
      "Data variables:\n",
      "    h        (time, y, x) float32 ...\n",
      "Attributes:\n",
      "    About:    Created by StVenant shallow water model. Laurent Brodeau, 2013\n"
     ]
    }
   ],
   "source": [
    "dataset_names = [\"h_test.nc\", \"v_test.nc\"]\n",
    "datasets = {}\n",
    "for name in dataset_names:\n",
    "    dataset = xr.open_dataset(datadir + name)\n",
    "    dataset[\"x\"] = dataset[\"x\"] - max(dataset[\"x\"])/2\n",
    "    datasets[name[0]] = dataset\n",
    "\n",
    "print(datasets[\"h\"])"
   ]
  },
  {
   "cell_type": "code",
   "execution_count": 12,
   "metadata": {
    "scrolled": true
   },
   "outputs": [
    {
     "name": "stdout",
     "output_type": "stream",
     "text": [
      "<xarray.Dataset>\n",
      "Dimensions:  (time: 161, x: 200, y: 201)\n",
      "Coordinates:\n",
      "  * x        (x) float64 -4.466e+06 -4.421e+06 ... 4.444e+06 4.489e+06\n",
      "  * y        (y) float64 0.0 2.25e+04 4.5e+04 ... 4.455e+06 4.478e+06 4.5e+06\n",
      "  * time     (time) float64 0.0 6.0 12.0 18.0 24.0 ... 942.0 948.0 954.0 960.0\n",
      "Data variables:\n",
      "    v        (time, y, x) float32 ...\n",
      "Attributes:\n",
      "    About:    Created by StVenant shallow water model. Laurent Brodeau, 2013\n"
     ]
    }
   ],
   "source": [
    "datasets_spec = dict.fromkeys(datasets.keys())\n",
    "for key in datasets.keys():\n",
    "    dataset = datasets[key]\n",
    "    datasets_spec[key] = dataset.sel(time=max(dataset.time), y=max(dataset.y)/2, method=\"nearest\")\n",
    "print(datasets[\"v\"])"
   ]
  },
  {
   "cell_type": "code",
   "execution_count": 14,
   "metadata": {},
   "outputs": [
    {
     "data": {
      "image/png": "[encoded data removed]",
      "text/plain": [
       "<Figure size 220.174x272.15 with 2 Axes>"
      ]
     },
     "metadata": {
      "needs_background": "light"
     },
     "output_type": "display_data"
    }
   ],
   "source": [
    "fig, ax = plt.subplots(2, 1, figsize=set_size(width=221, subplots=(2, 1)), sharex=True)\n",
    "ax[0].plot(datasets_spec[\"h\"].x/R, datasets_spec[\"h\"].h/h0,\n",
    "        linewidth=2,\n",
    "        #label=\"numerical\"\n",
    "       )\n",
    "ax[0].plot(datasets_spec[\"h\"].x/R, analytic_h(datasets_spec[\"h\"].x, 0)/h0,\n",
    "        linewidth=2,\n",
    "        linestyle=\"dashed\",\n",
    "        #label=\"analytical\"\n",
    "       )\n",
    "ax[0].set_ylabel(r\"$\\eta$ / $\\eta_0$\")\n",
    "\n",
    "ax[1].plot(datasets_spec[\"v\"].x/R, datasets_spec[\"v\"].v, #/max(datasets_spec[\"v\"].v),\n",
    "        linewidth=2,\n",
    "        #label=\"numerical\"\n",
    "       )\n",
    "ax[1].plot(datasets_spec[\"v\"].x/R, analytic_v(datasets_spec[\"v\"].x), #/max(datasets_spec[\"v\"].v),\n",
    "        linewidth=2,\n",
    "        linestyle=\"dashed\",\n",
    "        #label=\"analytical\"\n",
    "       )\n",
    "ax[1].set_ylabel(r\"$v$\")\n",
    "ax[1].set_xlabel(r\"$x$ / $R$\")\n",
    "\n",
    "sns.despine(fig=fig)\n",
    "fig.tight_layout()\n",
    "fig.savefig(figdir + \"dynamics_comparison.pdf\", format=\"pdf\", bbox_inches=\"tight\")\n",
    "\n",
    "plt.show()"
   ]
  },
  {
   "cell_type": "code",
   "execution_count": 38,
   "metadata": {},
   "outputs": [
    {
     "data": {
      "text/plain": [
       "<matplotlib.legend.Legend at 0x7f0625b88fa0>"
      ]
     },
     "execution_count": 38,
     "metadata": {},
     "output_type": "execute_result"
    },
    {
     "data": {
      "image/png": "[encoded data removed]",
      "text/plain": [
       "<Figure size 432x288 with 1 Axes>"
      ]
     },
     "metadata": {
      "needs_background": "light"
     },
     "output_type": "display_data"
    }
   ],
   "source": []
  },
  {
   "cell_type": "code",
   "execution_count": null,
   "metadata": {},
   "outputs": [],
   "source": []
  },
  {
   "cell_type": "code",
   "execution_count": null,
   "metadata": {},
   "outputs": [],
   "source": []
  }
 ],
 "metadata": {
  "kernelspec": {
   "display_name": "Python 3",
   "language": "python",
   "name": "python3"
  },
  "language_info": {
   "codemirror_mode": {
    "name": "ipython",
    "version": 3
   },
   "file_extension": ".py",
   "mimetype": "text/x-python",
   "name": "python",
   "nbconvert_exporter": "python",
   "pygments_lexer": "ipython3",
   "version": "3.8.2"
  }
 },
 "nbformat": 4,
 "nbformat_minor": 5
}
