{
 "cells": [
  {
   "cell_type": "code",
   "execution_count": 184,
   "id": "67977a94",
   "metadata": {},
   "outputs": [],
   "source": [
    "import numpy as np\n",
    "import xarray as xr\n",
    "import matplotlib.pyplot as plt\n",
    "\n",
    "from numpy import vectorize\n",
    "\n",
    "datadir = \"../\"\n",
    "R = np.sqrt(9.81*4000)/1e-4\n",
    "h0 = 5"
   ]
  },
  {
   "cell_type": "code",
   "execution_count": 185,
   "id": "2cad39b0",
   "metadata": {},
   "outputs": [],
   "source": [
    "@vectorize\n",
    "def analytic_h(x, midpoint):\n",
    "    h0 = 5\n",
    "    R = np.sqrt(9.81*4000)/1e-4\n",
    "    if x > midpoint:\n",
    "        return h0*(-1 + np.exp(-x/R)) \n",
    "    else:\n",
    "        return h0*(1 - np.exp(x/R))\n",
    "    \n",
    "def analytic_v(x):\n",
    "    f0 = 1e-4\n",
    "    g = 9.81\n",
    "    h0 = 5\n",
    "    R = np.sqrt(g*4000)/f0\n",
    "    v = -g*h0/(f0*R)*np.exp(-abs(x)/R)\n",
    "    return v"
   ]
  },
  {
   "cell_type": "code",
   "execution_count": 186,
   "id": "3aafca2b",
   "metadata": {},
   "outputs": [
    {
     "name": "stdout",
     "output_type": "stream",
     "text": [
      "<xarray.Dataset>\n",
      "Dimensions:  (x: 200, y: 200, time: 289)\n",
      "Coordinates:\n",
      "  * x        (x) float64 -2.978e+06 -2.948e+06 ... 2.962e+06 2.992e+06\n",
      "  * y        (y) float64 1.125e+04 3.375e+04 5.625e+04 ... 4.466e+06 4.489e+06\n",
      "  * time     (time) float64 0.0 0.25 0.5 0.75 1.0 ... 71.0 71.25 71.5 71.75 72.0\n",
      "Data variables:\n",
      "    h        (time, y, x) float32 ...\n",
      "Attributes:\n",
      "    About:    Created by StVenant shallow water model. Laurent Brodeau, 2013\n"
     ]
    }
   ],
   "source": [
    "dataset_names = [\"h_test.nc\", \"v_test.nc\"]\n",
    "datasets = {}\n",
    "for name in dataset_names:\n",
    "    dataset = xr.open_dataset(datadir + name)\n",
    "    dataset[\"x\"] = dataset[\"x\"] - max(dataset[\"x\"])/2\n",
    "    datasets[name[0]] = dataset\n",
    "\n",
    "print(datasets[\"h\"])"
   ]
  },
  {
   "cell_type": "code",
   "execution_count": 187,
   "id": "040cb8ba",
   "metadata": {},
   "outputs": [
    {
     "name": "stdout",
     "output_type": "stream",
     "text": [
      "<xarray.Dataset>\n",
      "Dimensions:  (x: 200, y: 201, time: 289)\n",
      "Coordinates:\n",
      "  * x        (x) float64 -2.978e+06 -2.948e+06 ... 2.962e+06 2.992e+06\n",
      "  * y        (y) float64 0.0 2.25e+04 4.5e+04 ... 4.455e+06 4.478e+06 4.5e+06\n",
      "  * time     (time) float64 0.0 0.25 0.5 0.75 1.0 ... 71.0 71.25 71.5 71.75 72.0\n",
      "Data variables:\n",
      "    v        (time, y, x) float32 ...\n",
      "Attributes:\n",
      "    About:    Created by StVenant shallow water model. Laurent Brodeau, 2013\n"
     ]
    }
   ],
   "source": [
    "datasets_spec = dict.fromkeys(datasets.keys())\n",
    "for key in datasets.keys():\n",
    "    dataset = datasets[key]\n",
    "    datasets_spec[key] = dataset.sel(time=max(dataset.time), y=max(dataset.y)/2, method=\"nearest\")\n",
    "print(datasets[\"v\"])"
   ]
  },
  {
   "cell_type": "code",
   "execution_count": 188,
   "id": "b0c3e653",
   "metadata": {},
   "outputs": [
    {
     "data": {
      "image/png": "[encoded data removed]",
      "text/plain": [
       "<Figure size 432x288 with 1 Axes>"
      ]
     },
     "metadata": {
      "needs_background": "light"
     },
     "output_type": "display_data"
    }
   ],
   "source": [
    "fig, ax = plt.subplots(1, 1)\n",
    "ax.plot(datasets_spec[\"h\"].x/R, datasets_spec[\"h\"].h/h0,\n",
    "        linewidth=2,\n",
    "        color=\"tab:red\"\n",
    "       )\n",
    "ax.plot(datasets_spec[\"h\"].x/R, analytic_h(datasets_spec[\"h\"].x, 0)/h0,\n",
    "        linewidth=2,\n",
    "        color=\"tab:blue\",\n",
    "        linestyle=\"dashed\"\n",
    "       )\n",
    "ax.set_xlabel(r\"$x$ / $R$\")\n",
    "ax.set_ylabel(r\"$\\eta$ / $\\eta_0$\")\n",
    "plt.show()"
   ]
  },
  {
   "cell_type": "code",
   "execution_count": 189,
   "id": "63998e6c",
   "metadata": {},
   "outputs": [
    {
     "data": {
      "text/plain": [
       "Text(0.5, 0, '$x$ / $R$')"
      ]
     },
     "execution_count": 189,
     "metadata": {},
     "output_type": "execute_result"
    },
    {
     "data": {
      "image/png": "[encoded data removed]",
      "text/plain": [
       "<Figure size 432x288 with 1 Axes>"
      ]
     },
     "metadata": {
      "needs_background": "light"
     },
     "output_type": "display_data"
    }
   ],
   "source": [
    "fig, ax = plt.subplots(1, 1)\n",
    "ax.plot(datasets_spec[\"v\"].x/R, datasets_spec[\"v\"].v, #/max(datasets_spec[\"v\"].v),\n",
    "        linewidth=2,\n",
    "        color=\"tab:red\"\n",
    "       )\n",
    "ax.plot(datasets_spec[\"v\"].x/R, analytic_v(datasets_spec[\"v\"].x), #/max(datasets_spec[\"v\"].v),\n",
    "        linewidth=2,\n",
    "        color=\"tab:blue\",\n",
    "        linestyle=\"dashed\"\n",
    "       )\n",
    "#ax.plot(datasets_spec[\"v\"].x/R, datasets_spec[\"v\"])\n",
    "ax.set_ylabel(r\"$v$ / $v_{max}$\")\n",
    "ax.set_xlabel(r\"$x$ / $R$\")"
   ]
  },
  {
   "cell_type": "code",
   "execution_count": null,
   "id": "21ecf4f5",
   "metadata": {},
   "outputs": [],
   "source": []
  },
  {
   "cell_type": "code",
   "execution_count": null,
   "id": "4af6fdc0",
   "metadata": {},
   "outputs": [],
   "source": []
  }
 ],
 "metadata": {
  "kernelspec": {
   "display_name": "Python 3 (ipykernel)",
   "language": "python",
   "name": "python3"
  },
  "language_info": {
   "codemirror_mode": {
    "name": "ipython",
    "version": 3
   },
   "file_extension": ".py",
   "mimetype": "text/x-python",
   "name": "python",
   "nbconvert_exporter": "python",
   "pygments_lexer": "ipython3",
   "version": "3.8.10"
  }
 },
 "nbformat": 4,
 "nbformat_minor": 5
}
