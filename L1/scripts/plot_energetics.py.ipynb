{
 "cells": [
  {
   "cell_type": "code",
   "execution_count": 4,
   "metadata": {},
   "outputs": [],
   "source": [
    "import numpy as np\n",
    "import xarray as xr\n",
    "import pandas as pd\n",
    "import seaborn as sns\n",
    "import matplotlib.pyplot as plt\n",
    "\n",
    "from latex import set_size\n",
    "\n",
    "\n",
    "plt.style.use(\"tex\")\n",
    "sns.set_palette(\"colorblind\")\n",
    "\n",
    "figdir = \"../figures/\"\n",
    "datadir = \"../data/\""
   ]
  },
  {
   "cell_type": "code",
   "execution_count": 9,
   "metadata": {},
   "outputs": [
    {
     "name": "stdout",
     "output_type": "stream",
     "text": [
      "time\n",
      "1      5.100403e+16\n",
      "2      5.060412e+16\n",
      "3      4.808580e+16\n",
      "4      4.608512e+16\n",
      "5      4.567768e+16\n",
      "           ...     \n",
      "157    4.028596e+16\n",
      "158    4.040144e+16\n",
      "159    4.030519e+16\n",
      "160    4.022303e+16\n",
      "161    4.034390e+16\n",
      "Name: total, Length: 161, dtype: float64\n"
     ]
    }
   ],
   "source": [
    "data = pd.read_csv(datadir + \"energy_f2.dat\",\n",
    "                   delim_whitespace=True,\n",
    "                   index_col=0,\n",
    "                   skipinitialspace=True,\n",
    "                   names=[\"time\", \"potential\", \"kinetic\", \"total\"]\n",
    "                  )\n",
    "print(data.total)"
   ]
  },
  {
   "cell_type": "code",
   "execution_count": 10,
   "metadata": {},
   "outputs": [
    {
     "data": {
      "image/png": "[encoded data removed]",
      "text/plain": [
       "<Figure size 220.174x136.075 with 1 Axes>"
      ]
     },
     "metadata": {
      "needs_background": "light"
     },
     "output_type": "display_data"
    }
   ],
   "source": [
    "fig, ax = plt.subplots(1, 1, figsize=set_size(width=221))\n",
    "ax.plot(data.index, data.potential/data.total)\n",
    "ax.plot(data.index, data.kinetic/data.total)\n",
    "ax.axhline(1/3,\n",
    "           color=\"black\",\n",
    "           linewidth=2\n",
    "          )\n",
    "ax.axhline(2/3,\n",
    "           color=\"black\",\n",
    "           linewidth=2\n",
    "          )\n",
    "ax.set_xlabel(r\"Time index [ ]\")\n",
    "ax.set_ylabel(r\"Relative energy [ ]\")\n",
    "\n",
    "sns.despine(fig=fig)\n",
    "fig.tight_layout()\n",
    "#fig.savefig(figdir + \"energetics.pdf\", format=\"pdf\", bbox_inches=\"tight\")"
   ]
  },
  {
   "cell_type": "code",
   "execution_count": null,
   "metadata": {},
   "outputs": [],
   "source": []
  },
  {
   "cell_type": "code",
   "execution_count": null,
   "metadata": {},
   "outputs": [],
   "source": []
  }
 ],
 "metadata": {
  "kernelspec": {
   "display_name": "Python 3",
   "language": "python",
   "name": "python3"
  },
  "language_info": {
   "codemirror_mode": {
    "name": "ipython",
    "version": 3
   },
   "file_extension": ".py",
   "mimetype": "text/x-python",
   "name": "python",
   "nbconvert_exporter": "python",
   "pygments_lexer": "ipython3",
   "version": "3.8.2"
  }
 },
 "nbformat": 4,
 "nbformat_minor": 5
}
