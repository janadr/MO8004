{
 "cells": [
  {
   "cell_type": "code",
   "execution_count": 1,
   "id": "e84c872e",
   "metadata": {},
   "outputs": [],
   "source": [
    "import numpy as np\n",
    "import xarray as xr\n",
    "import matplotlib.pyplot as plt\n",
    "\n",
    "datadir = \"../\""
   ]
  },
  {
   "cell_type": "code",
   "execution_count": 2,
   "id": "2db8f1c5",
   "metadata": {},
   "outputs": [
    {
     "name": "stdout",
     "output_type": "stream",
     "text": [
      "<xarray.Dataset>\n",
      "Dimensions:  (x: 200, y: 200, time: 289)\n",
      "Coordinates:\n",
      "  * x        (x) float64 -2.978e+06 -2.948e+06 ... 2.962e+06 2.992e+06\n",
      "  * y        (y) float64 1.125e+04 3.375e+04 5.625e+04 ... 4.466e+06 4.489e+06\n",
      "  * time     (time) float64 0.0 0.25 0.5 0.75 1.0 ... 71.0 71.25 71.5 71.75 72.0\n",
      "Data variables:\n",
      "    h        (time, y, x) float32 ...\n",
      "Attributes:\n",
      "    About:    Created by StVenant shallow water model. Laurent Brodeau, 2013\n"
     ]
    }
   ],
   "source": [
    "dataset_names = [\"h_test.nc\", \"v_test.nc\", \"u_test.nc\"]\n",
    "datasets = {}\n",
    "for name in dataset_names:\n",
    "    dataset = xr.open_dataset(datadir + name)\n",
    "    dataset[\"x\"] = dataset[\"x\"] - max(dataset[\"x\"])/2\n",
    "    datasets[name[0]] = dataset\n",
    "\n",
    "print(datasets[\"h\"])"
   ]
  },
  {
   "cell_type": "code",
   "execution_count": null,
   "id": "294215ba",
   "metadata": {},
   "outputs": [],
   "source": [
    "def kinetic_energy(u, v, h):\n",
    "    "
   ]
  }
 ],
 "metadata": {
  "kernelspec": {
   "display_name": "Python 3 (ipykernel)",
   "language": "python",
   "name": "python3"
  },
  "language_info": {
   "codemirror_mode": {
    "name": "ipython",
    "version": 3
   },
   "file_extension": ".py",
   "mimetype": "text/x-python",
   "name": "python",
   "nbconvert_exporter": "python",
   "pygments_lexer": "ipython3",
   "version": "3.8.10"
  }
 },
 "nbformat": 4,
 "nbformat_minor": 5
}
