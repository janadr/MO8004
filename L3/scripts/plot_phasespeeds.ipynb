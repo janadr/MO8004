{
 "cells": [
  {
   "cell_type": "code",
   "execution_count": 3,
   "metadata": {},
   "outputs": [
    {
     "name": "stdout",
     "output_type": "stream",
     "text": [
      "0.0004574\n"
     ]
    }
   ],
   "source": [
    "import numpy as np\n",
    "import xarray as xr\n",
    "import seaborn as sns\n",
    "import matplotlib.pyplot as plt\n",
    "import matplotlib.animation as animation\n",
    "from latex import set_size\n",
    "\n",
    "plt.style.use(\"tex\")\n",
    "sns.set_palette(\"colorblind\")\n",
    "\n",
    "datadir = \"../data/\"\n",
    "figdir = \"../figures/\"\n",
    "\n",
    "beta = 1.66e-11\n",
    "R = np.sqrt(9.81*4000)/1e-4\n",
    "\n",
    "alpha = 2.287e-11*4000/1e-4/2\n",
    "print(alpha)"
   ]
  },
  {
   "cell_type": "code",
   "execution_count": 108,
   "metadata": {},
   "outputs": [],
   "source": [
    "def compute_c_group_l0(R,beta,k):\n",
    "    cg=beta*(k**2-1/R**2)/(k**2+1/R**2)**2 # l equal to zero\n",
    "    return cg\n",
    "\n",
    "def compute_c_group(R,beta,k):\n",
    "    cg=beta*(k**2-1/R**2)/(2*k**2+1/R**2)**2 # l included and equal to k (c computed with l equal to k)\n",
    "    return cg"
   ]
  },
  {
   "cell_type": "code",
   "execution_count": 147,
   "metadata": {},
   "outputs": [],
   "source": [
    "def find_maximums(da, intervals):\n",
    "    maximums = []\n",
    "    for interval in intervals:\n",
    "        da_sel = da.sel(time=slice(interval[0], interval[1]))\n",
    "        maximum = da_sel.where(da_sel==da_sel.max(), drop=True).squeeze()\n",
    "        maximums.append(maximum)\n",
    "    return maximums\n",
    "\n",
    "def find_maximums_alt(da, intervals):\n",
    "    da_i = da.sel(x=0, method=\"nearest\")\n",
    "    da_f = da.sel(x=slice(-0.5e6, 0.5e6))\n",
    "    da_sel_i = da_i.sel(time=slice(intervals[0][0], intervals[0][1]))\n",
    "    maximum_i = da_sel_i.where(da_sel_i==da_sel_i.max(), drop=True).squeeze()\n",
    "    \n",
    "    da_sel_f = da_f.sel(time=slice(intervals[1][0], intervals[1][1]))\n",
    "    da_sel_f = da_sel_f.sel(x=da.x.min(), method=\"nearest\")\n",
    "    maximum_f = da_sel_f.where(da_sel_f==da_sel_f.max(), drop=True).squeeze()\n",
    "    \n",
    "    return [maximum_i, maximum_f]\n",
    "\n",
    "def slope(x1, x2):\n",
    "    return (x1.x - x2.x)/(x1.time - x2.time)\n",
    "\n",
    "def compute_k(Lw):\n",
    "    k=(1.3*np.pi/Lw)/np.sqrt(5)\n",
    "    return k\n",
    "\n",
    "def compute_Lw(Lw):\n",
    "    return np.sqrt(9.81*4000)/1e-4*Lw\n",
    "\n",
    "def analytical_group_velocity(k):\n",
    "    beta = 1.66e-11\n",
    "    R2 = 9.81*4000/1e-4**2\n",
    "    return beta*(k**2 - 1/R2)/(k**2 + 1/R2)**2\n",
    "\n",
    "def analytical_phase_velocity(k):\n",
    "    beta = 1.66e-11\n",
    "    R2 = 9.81*4000/1e-4**2\n",
    "    return -beta/(k**2 + 1/R2)"
   ]
  },
  {
   "cell_type": "code",
   "execution_count": 148,
   "metadata": {},
   "outputs": [
    {
     "data": {
      "text/html": [
       "<div><svg style=\"position: absolute; width: 0; height: 0; overflow: hidden\">\n",
       "<defs>\n",
       "<symbol id=\"icon-database\" viewBox=\"0 0 32 32\">\n",
       "<path d=\"M16 0c-8.837 0-16 2.239-16 5v4c0 2.761 7.163 5 16 5s16-2.239 16-5v-4c0-2.761-7.163-5-16-5z\"></path>\n",
       "<path d=\"M16 17c-8.837 0-16-2.239-16-5v6c0 2.761 7.163 5 16 5s16-2.239 16-5v-6c0 2.761-7.163 5-16 5z\"></path>\n",
       "<path d=\"M16 26c-8.837 0-16-2.239-16-5v6c0 2.761 7.163 5 16 5s16-2.239 16-5v-6c0 2.761-7.163 5-16 5z\"></path>\n",
       "</symbol>\n",
       "<symbol id=\"icon-file-text2\" viewBox=\"0 0 32 32\">\n",
       "<path d=\"M28.681 7.159c-0.694-0.947-1.662-2.053-2.724-3.116s-2.169-2.030-3.116-2.724c-1.612-1.182-2.393-1.319-2.841-1.319h-15.5c-1.378 0-2.5 1.121-2.5 2.5v27c0 1.378 1.122 2.5 2.5 2.5h23c1.378 0 2.5-1.122 2.5-2.5v-19.5c0-0.448-0.137-1.23-1.319-2.841zM24.543 5.457c0.959 0.959 1.712 1.825 2.268 2.543h-4.811v-4.811c0.718 0.556 1.584 1.309 2.543 2.268zM28 29.5c0 0.271-0.229 0.5-0.5 0.5h-23c-0.271 0-0.5-0.229-0.5-0.5v-27c0-0.271 0.229-0.5 0.5-0.5 0 0 15.499-0 15.5 0v7c0 0.552 0.448 1 1 1h7v19.5z\"></path>\n",
       "<path d=\"M23 26h-14c-0.552 0-1-0.448-1-1s0.448-1 1-1h14c0.552 0 1 0.448 1 1s-0.448 1-1 1z\"></path>\n",
       "<path d=\"M23 22h-14c-0.552 0-1-0.448-1-1s0.448-1 1-1h14c0.552 0 1 0.448 1 1s-0.448 1-1 1z\"></path>\n",
       "<path d=\"M23 18h-14c-0.552 0-1-0.448-1-1s0.448-1 1-1h14c0.552 0 1 0.448 1 1s-0.448 1-1 1z\"></path>\n",
       "</symbol>\n",
       "</defs>\n",
       "</svg>\n",
       "<style>/* CSS stylesheet for displaying xarray objects in jupyterlab.\n",
       " *\n",
       " */\n",
       "\n",
       ":root {\n",
       "  --xr-font-color0: var(--jp-content-font-color0, rgba(0, 0, 0, 1));\n",
       "  --xr-font-color2: var(--jp-content-font-color2, rgba(0, 0, 0, 0.54));\n",
       "  --xr-font-color3: var(--jp-content-font-color3, rgba(0, 0, 0, 0.38));\n",
       "  --xr-border-color: var(--jp-border-color2, #e0e0e0);\n",
       "  --xr-disabled-color: var(--jp-layout-color3, #bdbdbd);\n",
       "  --xr-background-color: var(--jp-layout-color0, white);\n",
       "  --xr-background-color-row-even: var(--jp-layout-color1, white);\n",
       "  --xr-background-color-row-odd: var(--jp-layout-color2, #eeeeee);\n",
       "}\n",
       "\n",
       "html[theme=dark],\n",
       "body.vscode-dark {\n",
       "  --xr-font-color0: rgba(255, 255, 255, 1);\n",
       "  --xr-font-color2: rgba(255, 255, 255, 0.54);\n",
       "  --xr-font-color3: rgba(255, 255, 255, 0.38);\n",
       "  --xr-border-color: #1F1F1F;\n",
       "  --xr-disabled-color: #515151;\n",
       "  --xr-background-color: #111111;\n",
       "  --xr-background-color-row-even: #111111;\n",
       "  --xr-background-color-row-odd: #313131;\n",
       "}\n",
       "\n",
       ".xr-wrap {\n",
       "  display: block;\n",
       "  min-width: 300px;\n",
       "  max-width: 700px;\n",
       "}\n",
       "\n",
       ".xr-text-repr-fallback {\n",
       "  /* fallback to plain text repr when CSS is not injected (untrusted notebook) */\n",
       "  display: none;\n",
       "}\n",
       "\n",
       ".xr-header {\n",
       "  padding-top: 6px;\n",
       "  padding-bottom: 6px;\n",
       "  margin-bottom: 4px;\n",
       "  border-bottom: solid 1px var(--xr-border-color);\n",
       "}\n",
       "\n",
       ".xr-header > div,\n",
       ".xr-header > ul {\n",
       "  display: inline;\n",
       "  margin-top: 0;\n",
       "  margin-bottom: 0;\n",
       "}\n",
       "\n",
       ".xr-obj-type,\n",
       ".xr-array-name {\n",
       "  margin-left: 2px;\n",
       "  margin-right: 10px;\n",
       "}\n",
       "\n",
       ".xr-obj-type {\n",
       "  color: var(--xr-font-color2);\n",
       "}\n",
       "\n",
       ".xr-sections {\n",
       "  padding-left: 0 !important;\n",
       "  display: grid;\n",
       "  grid-template-columns: 150px auto auto 1fr 20px 20px;\n",
       "}\n",
       "\n",
       ".xr-section-item {\n",
       "  display: contents;\n",
       "}\n",
       "\n",
       ".xr-section-item input {\n",
       "  display: none;\n",
       "}\n",
       "\n",
       ".xr-section-item input + label {\n",
       "  color: var(--xr-disabled-color);\n",
       "}\n",
       "\n",
       ".xr-section-item input:enabled + label {\n",
       "  cursor: pointer;\n",
       "  color: var(--xr-font-color2);\n",
       "}\n",
       "\n",
       ".xr-section-item input:enabled + label:hover {\n",
       "  color: var(--xr-font-color0);\n",
       "}\n",
       "\n",
       ".xr-section-summary {\n",
       "  grid-column: 1;\n",
       "  color: var(--xr-font-color2);\n",
       "  font-weight: 500;\n",
       "}\n",
       "\n",
       ".xr-section-summary > span {\n",
       "  display: inline-block;\n",
       "  padding-left: 0.5em;\n",
       "}\n",
       "\n",
       ".xr-section-summary-in:disabled + label {\n",
       "  color: var(--xr-font-color2);\n",
       "}\n",
       "\n",
       ".xr-section-summary-in + label:before {\n",
       "  display: inline-block;\n",
       "  content: '►';\n",
       "  font-size: 11px;\n",
       "  width: 15px;\n",
       "  text-align: center;\n",
       "}\n",
       "\n",
       ".xr-section-summary-in:disabled + label:before {\n",
       "  color: var(--xr-disabled-color);\n",
       "}\n",
       "\n",
       ".xr-section-summary-in:checked + label:before {\n",
       "  content: '▼';\n",
       "}\n",
       "\n",
       ".xr-section-summary-in:checked + label > span {\n",
       "  display: none;\n",
       "}\n",
       "\n",
       ".xr-section-summary,\n",
       ".xr-section-inline-details {\n",
       "  padding-top: 4px;\n",
       "  padding-bottom: 4px;\n",
       "}\n",
       "\n",
       ".xr-section-inline-details {\n",
       "  grid-column: 2 / -1;\n",
       "}\n",
       "\n",
       ".xr-section-details {\n",
       "  display: none;\n",
       "  grid-column: 1 / -1;\n",
       "  margin-bottom: 5px;\n",
       "}\n",
       "\n",
       ".xr-section-summary-in:checked ~ .xr-section-details {\n",
       "  display: contents;\n",
       "}\n",
       "\n",
       ".xr-array-wrap {\n",
       "  grid-column: 1 / -1;\n",
       "  display: grid;\n",
       "  grid-template-columns: 20px auto;\n",
       "}\n",
       "\n",
       ".xr-array-wrap > label {\n",
       "  grid-column: 1;\n",
       "  vertical-align: top;\n",
       "}\n",
       "\n",
       ".xr-preview {\n",
       "  color: var(--xr-font-color3);\n",
       "}\n",
       "\n",
       ".xr-array-preview,\n",
       ".xr-array-data {\n",
       "  padding: 0 5px !important;\n",
       "  grid-column: 2;\n",
       "}\n",
       "\n",
       ".xr-array-data,\n",
       ".xr-array-in:checked ~ .xr-array-preview {\n",
       "  display: none;\n",
       "}\n",
       "\n",
       ".xr-array-in:checked ~ .xr-array-data,\n",
       ".xr-array-preview {\n",
       "  display: inline-block;\n",
       "}\n",
       "\n",
       ".xr-dim-list {\n",
       "  display: inline-block !important;\n",
       "  list-style: none;\n",
       "  padding: 0 !important;\n",
       "  margin: 0;\n",
       "}\n",
       "\n",
       ".xr-dim-list li {\n",
       "  display: inline-block;\n",
       "  padding: 0;\n",
       "  margin: 0;\n",
       "}\n",
       "\n",
       ".xr-dim-list:before {\n",
       "  content: '(';\n",
       "}\n",
       "\n",
       ".xr-dim-list:after {\n",
       "  content: ')';\n",
       "}\n",
       "\n",
       ".xr-dim-list li:not(:last-child):after {\n",
       "  content: ',';\n",
       "  padding-right: 5px;\n",
       "}\n",
       "\n",
       ".xr-has-index {\n",
       "  font-weight: bold;\n",
       "}\n",
       "\n",
       ".xr-var-list,\n",
       ".xr-var-item {\n",
       "  display: contents;\n",
       "}\n",
       "\n",
       ".xr-var-item > div,\n",
       ".xr-var-item label,\n",
       ".xr-var-item > .xr-var-name span {\n",
       "  background-color: var(--xr-background-color-row-even);\n",
       "  margin-bottom: 0;\n",
       "}\n",
       "\n",
       ".xr-var-item > .xr-var-name:hover span {\n",
       "  padding-right: 5px;\n",
       "}\n",
       "\n",
       ".xr-var-list > li:nth-child(odd) > div,\n",
       ".xr-var-list > li:nth-child(odd) > label,\n",
       ".xr-var-list > li:nth-child(odd) > .xr-var-name span {\n",
       "  background-color: var(--xr-background-color-row-odd);\n",
       "}\n",
       "\n",
       ".xr-var-name {\n",
       "  grid-column: 1;\n",
       "}\n",
       "\n",
       ".xr-var-dims {\n",
       "  grid-column: 2;\n",
       "}\n",
       "\n",
       ".xr-var-dtype {\n",
       "  grid-column: 3;\n",
       "  text-align: right;\n",
       "  color: var(--xr-font-color2);\n",
       "}\n",
       "\n",
       ".xr-var-preview {\n",
       "  grid-column: 4;\n",
       "}\n",
       "\n",
       ".xr-var-name,\n",
       ".xr-var-dims,\n",
       ".xr-var-dtype,\n",
       ".xr-preview,\n",
       ".xr-attrs dt {\n",
       "  white-space: nowrap;\n",
       "  overflow: hidden;\n",
       "  text-overflow: ellipsis;\n",
       "  padding-right: 10px;\n",
       "}\n",
       "\n",
       ".xr-var-name:hover,\n",
       ".xr-var-dims:hover,\n",
       ".xr-var-dtype:hover,\n",
       ".xr-attrs dt:hover {\n",
       "  overflow: visible;\n",
       "  width: auto;\n",
       "  z-index: 1;\n",
       "}\n",
       "\n",
       ".xr-var-attrs,\n",
       ".xr-var-data {\n",
       "  display: none;\n",
       "  background-color: var(--xr-background-color) !important;\n",
       "  padding-bottom: 5px !important;\n",
       "}\n",
       "\n",
       ".xr-var-attrs-in:checked ~ .xr-var-attrs,\n",
       ".xr-var-data-in:checked ~ .xr-var-data {\n",
       "  display: block;\n",
       "}\n",
       "\n",
       ".xr-var-data > table {\n",
       "  float: right;\n",
       "}\n",
       "\n",
       ".xr-var-name span,\n",
       ".xr-var-data,\n",
       ".xr-attrs {\n",
       "  padding-left: 25px !important;\n",
       "}\n",
       "\n",
       ".xr-attrs,\n",
       ".xr-var-attrs,\n",
       ".xr-var-data {\n",
       "  grid-column: 1 / -1;\n",
       "}\n",
       "\n",
       "dl.xr-attrs {\n",
       "  padding: 0;\n",
       "  margin: 0;\n",
       "  display: grid;\n",
       "  grid-template-columns: 125px auto;\n",
       "}\n",
       "\n",
       ".xr-attrs dt, dd {\n",
       "  padding: 0;\n",
       "  margin: 0;\n",
       "  float: left;\n",
       "  padding-right: 10px;\n",
       "  width: auto;\n",
       "}\n",
       "\n",
       ".xr-attrs dt {\n",
       "  font-weight: normal;\n",
       "  grid-column: 1;\n",
       "}\n",
       "\n",
       ".xr-attrs dt:hover span {\n",
       "  display: inline-block;\n",
       "  background: var(--xr-background-color);\n",
       "  padding-right: 10px;\n",
       "}\n",
       "\n",
       ".xr-attrs dd {\n",
       "  grid-column: 2;\n",
       "  white-space: pre-wrap;\n",
       "  word-break: break-all;\n",
       "}\n",
       "\n",
       ".xr-icon-database,\n",
       ".xr-icon-file-text2 {\n",
       "  display: inline-block;\n",
       "  vertical-align: middle;\n",
       "  width: 1em;\n",
       "  height: 1.5em !important;\n",
       "  stroke-width: 0;\n",
       "  stroke: currentColor;\n",
       "  fill: currentColor;\n",
       "}\n",
       "</style><pre class='xr-text-repr-fallback'>&lt;xarray.Dataset&gt;\n",
       "Dimensions:  (time: 121, x: 300, y: 300)\n",
       "Coordinates:\n",
       "  * x        (x) float64 -3.488e+06 -3.465e+06 ... 3.465e+06 3.488e+06\n",
       "  * y        (y) float64 -4.072e+06 -4.048e+06 ... 2.882e+06 2.905e+06\n",
       "  * time     (time) float64 0.0 6.0 12.0 18.0 24.0 ... 702.0 708.0 714.0 720.0\n",
       "Data variables:\n",
       "    h_Lw025  (time, y, x) float32 ...\n",
       "    h_Lw050  (time, y, x) float32 ...\n",
       "    h_Lw075  (time, y, x) float32 ...\n",
       "    h_Lw1    (time, y, x) float32 ...\n",
       "    h_Lw125  (time, y, x) float32 ...</pre><div class='xr-wrap' hidden><div class='xr-header'><div class='xr-obj-type'>xarray.Dataset</div></div><ul class='xr-sections'><li class='xr-section-item'><input id='section-cff62d54-9161-416c-a523-e1923e87156a' class='xr-section-summary-in' type='checkbox' disabled ><label for='section-cff62d54-9161-416c-a523-e1923e87156a' class='xr-section-summary'  title='Expand/collapse section'>Dimensions:</label><div class='xr-section-inline-details'><ul class='xr-dim-list'><li><span class='xr-has-index'>time</span>: 121</li><li><span class='xr-has-index'>x</span>: 300</li><li><span class='xr-has-index'>y</span>: 300</li></ul></div><div class='xr-section-details'></div></li><li class='xr-section-item'><input id='section-3e097974-8649-41c2-9b6c-31f06040872e' class='xr-section-summary-in' type='checkbox'  checked><label for='section-3e097974-8649-41c2-9b6c-31f06040872e' class='xr-section-summary' >Coordinates: <span>(3)</span></label><div class='xr-section-inline-details'></div><div class='xr-section-details'><ul class='xr-var-list'><li class='xr-var-item'><div class='xr-var-name'><span class='xr-has-index'>x</span></div><div class='xr-var-dims'>(x)</div><div class='xr-var-dtype'>float64</div><div class='xr-var-preview xr-preview'>-3.488e+06 -3.465e+06 ... 3.488e+06</div><input id='attrs-99a26abb-66a2-41de-9d30-afb3cc4747fa' class='xr-var-attrs-in' type='checkbox' disabled><label for='attrs-99a26abb-66a2-41de-9d30-afb3cc4747fa' title='Show/Hide attributes'><svg class='icon xr-icon-file-text2'><use xlink:href='#icon-file-text2'></use></svg></label><input id='data-75327648-f1db-43ea-94e8-d59b621f6ec7' class='xr-var-data-in' type='checkbox'><label for='data-75327648-f1db-43ea-94e8-d59b621f6ec7' title='Show/Hide data repr'><svg class='icon xr-icon-database'><use xlink:href='#icon-database'></use></svg></label><div class='xr-var-attrs'><dl class='xr-attrs'></dl></div><div class='xr-var-data'><pre>array([-3488333.25, -3465000.  , -3441666.5 , ...,  3441666.75,  3465000.25,\n",
       "        3488333.75])</pre></div></li><li class='xr-var-item'><div class='xr-var-name'><span class='xr-has-index'>y</span></div><div class='xr-var-dims'>(y)</div><div class='xr-var-dtype'>float64</div><div class='xr-var-preview xr-preview'>-4.072e+06 -4.048e+06 ... 2.905e+06</div><input id='attrs-e7804166-a50f-47bb-b023-775c5d664e0c' class='xr-var-attrs-in' type='checkbox' disabled><label for='attrs-e7804166-a50f-47bb-b023-775c5d664e0c' title='Show/Hide attributes'><svg class='icon xr-icon-file-text2'><use xlink:href='#icon-file-text2'></use></svg></label><input id='data-c513c297-d028-4f8a-9d12-0daf7bbe0ca7' class='xr-var-data-in' type='checkbox'><label for='data-c513c297-d028-4f8a-9d12-0daf7bbe0ca7' title='Show/Hide data repr'><svg class='icon xr-icon-database'><use xlink:href='#icon-database'></use></svg></label><div class='xr-var-attrs'><dl class='xr-attrs'></dl></div><div class='xr-var-data'><pre>array([-4071666.75, -4048333.5 , -4025000.  , ...,  2858333.25,  2881666.75,\n",
       "        2905000.25])</pre></div></li><li class='xr-var-item'><div class='xr-var-name'><span class='xr-has-index'>time</span></div><div class='xr-var-dims'>(time)</div><div class='xr-var-dtype'>float64</div><div class='xr-var-preview xr-preview'>0.0 6.0 12.0 ... 708.0 714.0 720.0</div><input id='attrs-e92801f7-e11d-42f2-9532-52cfdb4c957a' class='xr-var-attrs-in' type='checkbox' disabled><label for='attrs-e92801f7-e11d-42f2-9532-52cfdb4c957a' title='Show/Hide attributes'><svg class='icon xr-icon-file-text2'><use xlink:href='#icon-file-text2'></use></svg></label><input id='data-430e3039-5085-4fab-9131-2f3800e37b56' class='xr-var-data-in' type='checkbox'><label for='data-430e3039-5085-4fab-9131-2f3800e37b56' title='Show/Hide data repr'><svg class='icon xr-icon-database'><use xlink:href='#icon-database'></use></svg></label><div class='xr-var-attrs'><dl class='xr-attrs'></dl></div><div class='xr-var-data'><pre>array([  0.,   6.,  12.,  18.,  24.,  30.,  36.,  42.,  48.,  54.,  60.,  66.,\n",
       "        72.,  78.,  84.,  90.,  96., 102., 108., 114., 120., 126., 132., 138.,\n",
       "       144., 150., 156., 162., 168., 174., 180., 186., 192., 198., 204., 210.,\n",
       "       216., 222., 228., 234., 240., 246., 252., 258., 264., 270., 276., 282.,\n",
       "       288., 294., 300., 306., 312., 318., 324., 330., 336., 342., 348., 354.,\n",
       "       360., 366., 372., 378., 384., 390., 396., 402., 408., 414., 420., 426.,\n",
       "       432., 438., 444., 450., 456., 462., 468., 474., 480., 486., 492., 498.,\n",
       "       504., 510., 516., 522., 528., 534., 540., 546., 552., 558., 564., 570.,\n",
       "       576., 582., 588., 594., 600., 606., 612., 618., 624., 630., 636., 642.,\n",
       "       648., 654., 660., 666., 672., 678., 684., 690., 696., 702., 708., 714.,\n",
       "       720.])</pre></div></li></ul></div></li><li class='xr-section-item'><input id='section-ae13fba8-98ed-4cb0-a33b-62ab6daf9f4a' class='xr-section-summary-in' type='checkbox'  checked><label for='section-ae13fba8-98ed-4cb0-a33b-62ab6daf9f4a' class='xr-section-summary' >Data variables: <span>(5)</span></label><div class='xr-section-inline-details'></div><div class='xr-section-details'><ul class='xr-var-list'><li class='xr-var-item'><div class='xr-var-name'><span>h_Lw025</span></div><div class='xr-var-dims'>(time, y, x)</div><div class='xr-var-dtype'>float32</div><div class='xr-var-preview xr-preview'>...</div><input id='attrs-023c823e-cc11-4088-9d29-c3e51bb49728' class='xr-var-attrs-in' type='checkbox' disabled><label for='attrs-023c823e-cc11-4088-9d29-c3e51bb49728' title='Show/Hide attributes'><svg class='icon xr-icon-file-text2'><use xlink:href='#icon-file-text2'></use></svg></label><input id='data-f45f4a39-2003-4cac-b79a-29f3b4290b06' class='xr-var-data-in' type='checkbox'><label for='data-f45f4a39-2003-4cac-b79a-29f3b4290b06' title='Show/Hide data repr'><svg class='icon xr-icon-database'><use xlink:href='#icon-database'></use></svg></label><div class='xr-var-attrs'><dl class='xr-attrs'></dl></div><div class='xr-var-data'><pre>[10890000 values with dtype=float32]</pre></div></li><li class='xr-var-item'><div class='xr-var-name'><span>h_Lw050</span></div><div class='xr-var-dims'>(time, y, x)</div><div class='xr-var-dtype'>float32</div><div class='xr-var-preview xr-preview'>...</div><input id='attrs-0b4710c1-e2db-4c90-a418-7acd20030318' class='xr-var-attrs-in' type='checkbox' disabled><label for='attrs-0b4710c1-e2db-4c90-a418-7acd20030318' title='Show/Hide attributes'><svg class='icon xr-icon-file-text2'><use xlink:href='#icon-file-text2'></use></svg></label><input id='data-f5effde5-1bf7-46b8-a26c-52dd5b4ee571' class='xr-var-data-in' type='checkbox'><label for='data-f5effde5-1bf7-46b8-a26c-52dd5b4ee571' title='Show/Hide data repr'><svg class='icon xr-icon-database'><use xlink:href='#icon-database'></use></svg></label><div class='xr-var-attrs'><dl class='xr-attrs'></dl></div><div class='xr-var-data'><pre>[10890000 values with dtype=float32]</pre></div></li><li class='xr-var-item'><div class='xr-var-name'><span>h_Lw075</span></div><div class='xr-var-dims'>(time, y, x)</div><div class='xr-var-dtype'>float32</div><div class='xr-var-preview xr-preview'>...</div><input id='attrs-3e9db13d-310e-4719-9bfc-4ea8924648c0' class='xr-var-attrs-in' type='checkbox' disabled><label for='attrs-3e9db13d-310e-4719-9bfc-4ea8924648c0' title='Show/Hide attributes'><svg class='icon xr-icon-file-text2'><use xlink:href='#icon-file-text2'></use></svg></label><input id='data-6b22bc3d-4db8-49fd-8807-ea210f6d7113' class='xr-var-data-in' type='checkbox'><label for='data-6b22bc3d-4db8-49fd-8807-ea210f6d7113' title='Show/Hide data repr'><svg class='icon xr-icon-database'><use xlink:href='#icon-database'></use></svg></label><div class='xr-var-attrs'><dl class='xr-attrs'></dl></div><div class='xr-var-data'><pre>[10890000 values with dtype=float32]</pre></div></li><li class='xr-var-item'><div class='xr-var-name'><span>h_Lw1</span></div><div class='xr-var-dims'>(time, y, x)</div><div class='xr-var-dtype'>float32</div><div class='xr-var-preview xr-preview'>...</div><input id='attrs-c32ec31a-d775-401e-8175-78ca6feeb2d6' class='xr-var-attrs-in' type='checkbox' disabled><label for='attrs-c32ec31a-d775-401e-8175-78ca6feeb2d6' title='Show/Hide attributes'><svg class='icon xr-icon-file-text2'><use xlink:href='#icon-file-text2'></use></svg></label><input id='data-41dec467-de57-4fa7-8e30-7f3ccb2e86d7' class='xr-var-data-in' type='checkbox'><label for='data-41dec467-de57-4fa7-8e30-7f3ccb2e86d7' title='Show/Hide data repr'><svg class='icon xr-icon-database'><use xlink:href='#icon-database'></use></svg></label><div class='xr-var-attrs'><dl class='xr-attrs'></dl></div><div class='xr-var-data'><pre>[10890000 values with dtype=float32]</pre></div></li><li class='xr-var-item'><div class='xr-var-name'><span>h_Lw125</span></div><div class='xr-var-dims'>(time, y, x)</div><div class='xr-var-dtype'>float32</div><div class='xr-var-preview xr-preview'>...</div><input id='attrs-b2692658-d525-482e-b38c-5effe6123179' class='xr-var-attrs-in' type='checkbox' disabled><label for='attrs-b2692658-d525-482e-b38c-5effe6123179' title='Show/Hide attributes'><svg class='icon xr-icon-file-text2'><use xlink:href='#icon-file-text2'></use></svg></label><input id='data-703d4161-b9ab-4c85-ae9c-ac3e5d01502c' class='xr-var-data-in' type='checkbox'><label for='data-703d4161-b9ab-4c85-ae9c-ac3e5d01502c' title='Show/Hide data repr'><svg class='icon xr-icon-database'><use xlink:href='#icon-database'></use></svg></label><div class='xr-var-attrs'><dl class='xr-attrs'></dl></div><div class='xr-var-data'><pre>[10890000 values with dtype=float32]</pre></div></li></ul></div></li><li class='xr-section-item'><input id='section-4e638d35-c183-40a8-afa6-088f7289a65f' class='xr-section-summary-in' type='checkbox' disabled ><label for='section-4e638d35-c183-40a8-afa6-088f7289a65f' class='xr-section-summary'  title='Expand/collapse section'>Attributes: <span>(0)</span></label><div class='xr-section-inline-details'></div><div class='xr-section-details'><dl class='xr-attrs'></dl></div></li></ul></div></div>"
      ],
      "text/plain": [
       "<xarray.Dataset>\n",
       "Dimensions:  (time: 121, x: 300, y: 300)\n",
       "Coordinates:\n",
       "  * x        (x) float64 -3.488e+06 -3.465e+06 ... 3.465e+06 3.488e+06\n",
       "  * y        (y) float64 -4.072e+06 -4.048e+06 ... 2.882e+06 2.905e+06\n",
       "  * time     (time) float64 0.0 6.0 12.0 18.0 24.0 ... 702.0 708.0 714.0 720.0\n",
       "Data variables:\n",
       "    h_Lw025  (time, y, x) float32 ...\n",
       "    h_Lw050  (time, y, x) float32 ...\n",
       "    h_Lw075  (time, y, x) float32 ...\n",
       "    h_Lw1    (time, y, x) float32 ...\n",
       "    h_Lw125  (time, y, x) float32 ..."
      ]
     },
     "execution_count": 148,
     "metadata": {},
     "output_type": "execute_result"
    }
   ],
   "source": [
    "names = [\"025\", \"050\", \"075\", \"1\", \"125\"]\n",
    "Lws = np.array([0.25, 0.50, 0.75, 1, 1.25])\n",
    "datasets = []\n",
    "for i in range(len(names)):\n",
    "    names[i] = \"h_Lw\" + names[i]\n",
    "    ds = xr.open_dataset(datadir + names[i] + \".nc\")\n",
    "    ds = ds.rename(h=names[i])\n",
    "    datasets.append(ds)\n",
    "ds = xr.merge(datasets)\n",
    "ds\n"
   ]
  },
  {
   "cell_type": "code",
   "execution_count": 149,
   "metadata": {
    "scrolled": true
   },
   "outputs": [
    {
     "data": {
      "image/png": "[encoded data removed]",
      "text/plain": [
       "<Figure size 432x288 with 1 Axes>"
      ]
     },
     "metadata": {
      "needs_background": "light"
     },
     "output_type": "display_data"
    },
    {
     "data": {
      "image/png": "[encoded data removed]",
      "text/plain": [
       "<Figure size 432x288 with 1 Axes>"
      ]
     },
     "metadata": {
      "needs_background": "light"
     },
     "output_type": "display_data"
    },
    {
     "data": {
      "image/png": "[encoded data removed]",
      "text/plain": [
       "<Figure size 432x288 with 1 Axes>"
      ]
     },
     "metadata": {
      "needs_background": "light"
     },
     "output_type": "display_data"
    },
    {
     "data": {
      "image/png": "[encoded data removed]",
      "text/plain": [
       "<Figure size 432x288 with 1 Axes>"
      ]
     },
     "metadata": {
      "needs_background": "light"
     },
     "output_type": "display_data"
    },
    {
     "data": {
      "image/png": "[encoded data removed]",
      "text/plain": [
       "<Figure size 432x288 with 1 Axes>"
      ]
     },
     "metadata": {
      "needs_background": "light"
     },
     "output_type": "display_data"
    }
   ],
   "source": [
    "for name in names:\n",
    "    fig, ax = plt.subplots(1, 1)\n",
    "    ax.contourf(ds_eq.x, ds_eq.time, ds_eq[name])"
   ]
  },
  {
   "cell_type": "code",
   "execution_count": 154,
   "metadata": {},
   "outputs": [
    {
     "data": {
      "image/png": "[encoded data removed]",
      "text/plain": [
       "<Figure size 432x288 with 1 Axes>"
      ]
     },
     "metadata": {
      "needs_background": "light"
     },
     "output_type": "display_data"
    },
    {
     "data": {
      "image/png": "[encoded data removed]",
      "text/plain": [
       "<Figure size 432x288 with 1 Axes>"
      ]
     },
     "metadata": {
      "needs_background": "light"
     },
     "output_type": "display_data"
    },
    {
     "data": {
      "image/png": "[encoded data removed]",
      "text/plain": [
       "<Figure size 432x288 with 1 Axes>"
      ]
     },
     "metadata": {
      "needs_background": "light"
     },
     "output_type": "display_data"
    },
    {
     "data": {
      "image/png": "[encoded data removed]",
      "text/plain": [
       "<Figure size 432x288 with 1 Axes>"
      ]
     },
     "metadata": {
      "needs_background": "light"
     },
     "output_type": "display_data"
    },
    {
     "data": {
      "image/png": "[encoded data removed]",
      "text/plain": [
       "<Figure size 432x288 with 1 Axes>"
      ]
     },
     "metadata": {
      "needs_background": "light"
     },
     "output_type": "display_data"
    }
   ],
   "source": [
    "ds_eq = ds.sel(y=0, method=\"nearest\")\n",
    "\n",
    "intervals = [\n",
    "            [1, 100],\n",
    "            [100, 200]\n",
    "            ]\n",
    "intervals_alt = [\n",
    "            [1, 150],\n",
    "            [15, 150]\n",
    "            ]\n",
    "maximums = []\n",
    "maximums_alt = []\n",
    "for name in names:\n",
    "    maximum = find_maximums(ds_eq[name], intervals)\n",
    "    maximum_alt = find_maximums_alt(ds_eq[name], intervals_alt)\n",
    "    maximums.append(maximum)\n",
    "    maximums_alt.append(maximum_alt)\n",
    "    \n",
    "    fig, ax = plt.subplots(1, 1)\n",
    "    ax.contourf(ds_eq.x, ds_eq.time, ds_eq[name])\n",
    "    ax.plot(maximum_alt[0].x, maximum_alt[0].time, \"o\", color=\"black\")\n",
    "    ax.plot(maximum_alt[1].x, maximum_alt[1].time, \"o\", color=\"black\")"
   ]
  },
  {
   "cell_type": "code",
   "execution_count": 155,
   "metadata": {},
   "outputs": [
    {
     "name": "stdout",
     "output_type": "stream",
     "text": [
      "[-0.8101852162679036, 4.6210569882491, 7.5617286844135805, 8.353910783179012, 19.876543402777777]\n",
      "[3.68810872e-06 1.84405436e-06 1.22936957e-06 9.22027180e-07\n",
      " 7.37621744e-07]\n"
     ]
    },
    {
     "data": {
      "image/png": "[encoded data removed]",
      "text/plain": [
       "<Figure size 220.174x136.075 with 1 Axes>"
      ]
     },
     "metadata": {
      "needs_background": "light"
     },
     "output_type": "display_data"
    }
   ],
   "source": [
    "group_velocities = []\n",
    "phase_velocities = []\n",
    "for maximum, maximum_alt in zip(maximums, maximums_alt):\n",
    "    group_velocity = slope(maximum[1], maximum[0])/60/60\n",
    "    group_velocities.append(float(group_velocity.values))\n",
    "    \n",
    "    phase_velocity = slope(maximum_alt[1], maximum_alt[0])/60/60\n",
    "    phase_velocities.append(float(phase_velocity.values))\n",
    "print(group_velocities)\n",
    "\n",
    "ks = compute_k(compute_Lw(Lws))\n",
    "print(ks)\n",
    "\n",
    "k = np.linspace(ks[0], ks[-1], 100)\n",
    "\n",
    "fig, ax = plt.subplots(1, 1, figsize=set_size(width=221))\n",
    "\n",
    "ax.scatter(ks*R, group_velocities/(beta*R**2))\n",
    "ax.scatter(ks*R, phase_velocities/(beta*R**2))\n",
    "\n",
    "ax.plot(k*R , analytical_group_velocity(k)/(beta*R**2))\n",
    "ax.plot(k*R, analytical_phase_velocity(k)/(beta*R**2))\n",
    "\n",
    "ax.set_xlabel(r\"$k R$\")\n",
    "ax.set_ylabel(r\"$c (\\beta R)^{-2}$\")\n",
    "\n",
    "fig.tight_layout()\n",
    "fig.savefig(figdir + \"velocities.pdf\", dpi=600, bbox_inches=\"tight\")"
   ]
  },
  {
   "cell_type": "code",
   "execution_count": null,
   "metadata": {},
   "outputs": [],
   "source": []
  },
  {
   "cell_type": "code",
   "execution_count": null,
   "metadata": {},
   "outputs": [],
   "source": []
  },
  {
   "cell_type": "code",
   "execution_count": null,
   "metadata": {},
   "outputs": [],
   "source": []
  },
  {
   "cell_type": "code",
   "execution_count": null,
   "metadata": {},
   "outputs": [],
   "source": []
  }
 ],
 "metadata": {
  "kernelspec": {
   "display_name": "Python 3",
   "language": "python",
   "name": "python3"
  },
  "language_info": {
   "codemirror_mode": {
    "name": "ipython",
    "version": 3
   },
   "file_extension": ".py",
   "mimetype": "text/x-python",
   "name": "python",
   "nbconvert_exporter": "python",
   "pygments_lexer": "ipython3",
   "version": "3.8.2"
  }
 },
 "nbformat": 4,
 "nbformat_minor": 4
}
